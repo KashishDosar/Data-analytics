{
 "cells": [
  {
   "cell_type": "code",
   "execution_count": 6,
   "metadata": {},
   "outputs": [],
   "source": [
    "a = 23\n",
    "b = 3.111\n",
    "c = \"hello\"\n",
    "d = True\n",
    "e = None"
   ]
  },
  {
   "cell_type": "code",
   "execution_count": 5,
   "metadata": {},
   "outputs": [],
   "source": [
    "fruits = [\"apple\",\"banana\" \"cherry\"]\n",
    "coords = {3,3,2}\n",
    "items = {12,15,2,12,3}\n",
    "person = {\"name\":\"jhon\",\"age\": 36,\"country\":\"Norway\"}"
   ]
  },
  {
   "cell_type": "code",
   "execution_count": 7,
   "metadata": {},
   "outputs": [
    {
     "data": {
      "text/plain": [
       "True"
      ]
     },
     "execution_count": 7,
     "metadata": {},
     "output_type": "execute_result"
    }
   ],
   "source": [
    "\n",
    "x = 5\n",
    "x < 10"
   ]
  },
  {
   "cell_type": "code",
   "execution_count": 8,
   "metadata": {},
   "outputs": [],
   "source": [
    "a = [2,5,6,12,11,21,51]"
   ]
  },
  {
   "cell_type": "code",
   "execution_count": 9,
   "metadata": {},
   "outputs": [
    {
     "data": {
      "text/plain": [
       "True"
      ]
     },
     "execution_count": 9,
     "metadata": {},
     "output_type": "execute_result"
    }
   ],
   "source": [
    "11 in a"
   ]
  },
  {
   "cell_type": "code",
   "execution_count": 8,
   "metadata": {},
   "outputs": [],
   "source": [
    "name = input('enter name')\n",
    "college = input(\"college name\")\n",
    "age = int(input('age'))# int casting\n",
    "height = float(input('height'))# float casting\n"
   ]
  },
  {
   "cell_type": "code",
   "execution_count": 9,
   "metadata": {},
   "outputs": [
    {
     "name": "stdout",
     "output_type": "stream",
     "text": [
      "your details\n",
      "kashish\n",
      "abc\n",
      "age 21\n",
      "height 5.3 ft\n"
     ]
    }
   ],
   "source": [
    "print(\"your details\")\n",
    "print (name)\n",
    "print(college)\n",
    "print('age',age)\n",
    "print('height',height, 'ft')"
   ]
  },
  {
   "cell_type": "code",
   "execution_count": 11,
   "metadata": {},
   "outputs": [
    {
     "name": "stdout",
     "output_type": "stream",
     "text": [
      "name: kashish college: abc\n"
     ]
    }
   ],
   "source": [
    "print('name:', name, 'college:',college,)"
   ]
  },
  {
   "cell_type": "code",
   "execution_count": 13,
   "metadata": {},
   "outputs": [
    {
     "name": "stdout",
     "output_type": "stream",
     "text": [
      "My name is kashish, I am 21 year old\n"
     ]
    }
   ],
   "source": [
    "print(f'My name is {name}, I am {age} year old')"
   ]
  },
  {
   "cell_type": "code",
   "execution_count": 16,
   "metadata": {},
   "outputs": [
    {
     "name": "stdout",
     "output_type": "stream",
     "text": [
      "➡️Principal = 1230000\n",
      "➡️Rate = 2.4\n",
      "➡️Time = 3\n",
      "------------------------------\n",
      "➡️Simple Interest = 88560.0\n"
     ]
    }
   ],
   "source": [
    "p = int(input('enter a number'))\n",
    "r = float(input('enter a rate'))\n",
    "t = int(input('enetr a time'))\n",
    "si = p*r*t/100\n",
    "print(f'➡️Principal = {p}')\n",
    "print(f'➡️Rate = {r}')\n",
    "print(f'➡️Time = {t}')\n",
    "print('--'*15)\n",
    "print(f'➡️Simple Interest = {si}')"
   ]
  },
  {
   "cell_type": "code",
   "execution_count": 20,
   "metadata": {},
   "outputs": [
    {
     "name": "stdout",
     "output_type": "stream",
     "text": [
      "lenght = 12\n",
      "width = 23\n",
      "------------\n",
      "❌area = 276\n"
     ]
    }
   ],
   "source": [
    "p = int(input('enter a lenght'))\n",
    "q = int(input('enetr a width'))\n",
    "ar = p*q\n",
    "print(f'lenght = {p}')\n",
    "print(f'width = {q}')\n",
    "print('--'*6)\n",
    "print(f'❌area = {ar}')"
   ]
  }
 ],
 "metadata": {
  "kernelspec": {
   "display_name": "base",
   "language": "python",
   "name": "python3"
  },
  "language_info": {
   "codemirror_mode": {
    "name": "ipython",
    "version": 3
   },
   "file_extension": ".py",
   "mimetype": "text/x-python",
   "name": "python",
   "nbconvert_exporter": "python",
   "pygments_lexer": "ipython3",
   "version": "3.11.5"
  }
 },
 "nbformat": 4,
 "nbformat_minor": 2
}
